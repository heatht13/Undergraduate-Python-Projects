{
 "cells": [
  {
   "cell_type": "code",
   "execution_count": 12,
   "id": "db256cf8",
   "metadata": {},
   "outputs": [],
   "source": [
    "import pandas as pd\n",
    "from kmodes.kmodes import KModes\n",
    "import matplotlib.pyplot as plt\n",
    "from seaborn import countplot"
   ]
  },
  {
   "cell_type": "code",
   "execution_count": 2,
   "id": "0e3f0fb4",
   "metadata": {},
   "outputs": [],
   "source": [
    "# read csv into pandas dataframe\n",
    "data = pd.read_csv(file_path)\n",
    "data = data.drop(columns=['DATE.OCC','DR_NO','AREA.NAME'])\n",
    "data.head(10)"
   ]
  },
  {
   "cell_type": "code",
   "execution_count": 3,
   "id": "f6cc8d0b",
   "metadata": {},
   "outputs": [],
   "source": [
    "#Remove any rows with H in their Vict.Sex column\n",
    "cleaned = data.drop(data[data['Vict.Sex']=='H'].index)\n",
    "#Remove any rows without the specified characters below in their Vict.Descent column\n",
    "toKeep = ['B','H','O','W','X']\n",
    "cleaned = cleaned.drop(cleaned[cleaned['Vict.Descent'].isin(toKeep)==False].index)\n",
    "encode.head(10)\n",
    "#the table printed now only stores records with the most meaningful data"
   ]
  },
  {
   "cell_type": "code",
   "execution_count": 4,
   "id": "a0019b77",
   "metadata": {},
   "outputs": [],
   "source": [
    "#here, we will implement Kmodes (similar to KMeans, but clusters categorical variables rather than numerical). \n",
    "#to do this, for now, we will strip the loc (lat, lon) data. What's left is our categorical data\n",
    "#but we will categorize age data in ranges (10-20, 21-30, 31-40, etc.) as well as time data\n",
    "KmodesData = pd.DataFrame.copy(cleaned)\n",
    "KmodesData.head()\n",
    "KmodesData.drop(columns=['LAT', 'LON'], inplace=True)\n",
    "#group ages into age bins\n",
    "KmodesData['AgeBins'] = pd.cut(KmodesData['Vict.Age'], bins=[0,20,30,40,50,60,70,80,max(KmodesData['Vict.Age'])])\n",
    "KmodesData.drop(columns=['Vict.Age'], inplace=True)\n",
    "#group times into time bins\n",
    "KmodesData['TimeOccBins'] = pd.cut(KmodesData['TIME.OCC'], bins=[0, 600, 1200, 1600, 2100, 2400])\n",
    "KmodesData.drop(columns=['TIME.OCC'], inplace=True)\n",
    "#convert it all to strings to ensure categories can be determined by KModes\n",
    "KmodesData = KmodesData.astype('str', copy=True)\n",
    "KmodesData.head(10)"
   ]
  },
  {
   "cell_type": "code",
   "execution_count": 7,
   "id": "142f2fe4",
   "metadata": {},
   "outputs": [],
   "source": [
    "#Kmodes requires us to give it the number of clusters we wish to categorize\n",
    "#we will use the Elbow method to determine this number of clusters K\n",
    "cost = []\n",
    "K = [1,2,3,4]\n",
    "for i in K:\n",
    "    kout = KModes(n_clusters=i, init='Cao', n_init=4)\n",
    "    kout.fit_predict(KmodesData)\n",
    "    cost.append(kout.cost_)\n",
    "plt.plot(K, cost)\n",
    "plt.xlabel('K')\n",
    "plt.ylabel('Cost')\n",
    "plt.show()\n",
    "#we will select the farthest right significant bend...\n",
    "#we can see the bend at K=2, so we will use 2 clusters"
   ]
  },
  {
   "cell_type": "code",
   "execution_count": 8,
   "id": "d547e872",
   "metadata": {},
   "outputs": [],
   "source": [
    "#we will now implement our KModes algo\n",
    "kout = KModes(n_clusters=2, init='Cao', n_init=4)\n",
    "#and use the fitted model to assign clusters to each victim\n",
    "clusters = kout.fit_predict(KmodesData)\n",
    "#finally append the cluster values to our dataframe\n",
    "KmodesData['Cluster'] = clusters\n",
    "#KmodesData.head(10)\n",
    "#make copy of of this data and add lat and long back to it.\n",
    "#We will use this dataframe for further data analysis\n",
    "csv = pd.DataFrame.copy(cleaned)\n",
    "csv['Cluster'] = clusters\n",
    "csv.to_csv(path)"
   ]
  },
  {
   "cell_type": "code",
   "execution_count": 10,
   "id": "fb487f26",
   "metadata": {},
   "outputs": [],
   "source": [
    "for column in KmodesData.iloc[:,:-1]:\n",
    "    plt.subplots()\n",
    "    countplot(x='Cluster', hue=column, data=KmodesData)\n",
    "    plt.show()"
   ]
  }
 ],
 "metadata": {
  "kernelspec": {
   "display_name": "Python 3 (ipykernel)",
   "language": "python",
   "name": "python3"
  },
  "language_info": {
   "codemirror_mode": {
    "name": "ipython",
    "version": 3
   },
   "file_extension": ".py",
   "mimetype": "text/x-python",
   "name": "python",
   "nbconvert_exporter": "python",
   "pygments_lexer": "ipython3",
   "version": "3.9.7"
  }
 },
 "nbformat": 4,
 "nbformat_minor": 5
}
