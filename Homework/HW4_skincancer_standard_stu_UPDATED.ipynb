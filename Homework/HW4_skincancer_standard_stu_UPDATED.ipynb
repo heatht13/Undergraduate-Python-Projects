{
 "cells": [
  {
   "cell_type": "markdown",
   "metadata": {},
   "source": [
    "## HW4: DL Competition: Skin Cancer Detection¶\n",
    "#### Project description\n",
    "Skin cancer is the most common form of cancer, globally accounting for at least 40% of cancer cases. People with lighter skin are at higher risk. There are three main types of skin cancers: basal-cell skin cancer (BCC), squamous-cell skin cancer (SCC), and melanoma. Globally in 2012, melanoma occurred in 232,000 people and resulted in 55,000 deaths. Between 20% and 30% of melanomas develop from moles.\n",
    "\n",
    "#### Task\n",
    "In this project, we will develop deep learning-based solutions to classify images of skin moles into benign or malignant categories. You are limited to using fully-connected NNs only, and CNNs are not allowed in this project.\n",
    "\n",
    "#### Data\n",
    "The training and test set contains 2,637 and 660 images, respectively. The dataset is from a Kaggle Competition at https://www.kaggle.com/fanconic/skin-cancer-malignant-vs-benign. The 'data' folder structure is as below\n",
    "\n",
    "- data\n",
    "    - train\n",
    "        - benign\n",
    "        - malignant\n",
    "    - test\n",
    "        - benign\n",
    "        - malignant\n",
    "        \n",
    "#### Code templates\n",
    "    - If you have a computer with a large-size RAM (>8GB) and a fast CPU, you can download the 'standard' template and data(zip file) to work on your own computer. You need to manually unzip the data file to the folder of the code template.\n",
    "\n",
    "     - If not, you can download the 'colab' template, and upload the code file and data zip file to your Google Drive; then open and edit the code using the Google Colab. The 3rd code cell will unzip the data file automatically.\n",
    " \n",
    "#### Submission\n",
    "Please submit your code with the screenshot of the last two cells' results to Bblearn.\n",
    "\n",
    "#### Grading\n",
    "- Accuracy on the test set will be used to determine the final grades.\n",
    "- Students of the top five approaches will earn class certificates."
   ]
  },
  {
   "cell_type": "code",
   "execution_count": 2,
   "metadata": {},
   "outputs": [],
   "source": [
    "import os\n",
    "import matplotlib.pyplot as plt\n",
    "import numpy as np\n",
    "from tensorflow import keras"
   ]
  },
  {
   "cell_type": "markdown",
   "metadata": {},
   "source": [
    "### 1. Data preparation"
   ]
  },
  {
   "cell_type": "code",
   "execution_count": null,
   "metadata": {},
   "outputs": [
    {
     "name": "stdout",
     "output_type": "stream",
     "text": [
      "# training images: 2637\n",
      "# test images: 660\n",
      "loading images ...\n"
     ]
    }
   ],
   "source": [
    "from PIL import Image\n",
    "\n",
    "#1.1 get image lists\n",
    "train_b = 'data/train/benign'\n",
    "train_m = 'data/train/malignant'\n",
    "\n",
    "test_b = 'data/test/benign'\n",
    "test_m = 'data/test/malignant'\n",
    "\n",
    "def getImList(folder):\n",
    "    # get the list of file names in 'folder'\n",
    "    imList = os.listdir(folder) # get all names\n",
    "    fPath = [os.path.join(folder, fName) for fName in imList] # add path to names\n",
    "    \n",
    "    return fPath\n",
    "\n",
    "trainList_b = getImList(train_b)\n",
    "trainList_m = getImList(train_m)\n",
    "trainList = trainList_b + trainList_m\n",
    "print(\"# training images:\", len(trainList))\n",
    "\n",
    "testList_b = getImList(test_b)\n",
    "testList_m = getImList(test_m)\n",
    "testList = testList_b + testList_m\n",
    "print(\"# test images:\", len(testList))\n",
    "\n",
    "#1.2 load all images\n",
    "read = lambda imName: np.asarray(Image.open(imName).convert(\"RGB\"))\n",
    "print('loading images ...')\n",
    "X_train = [read(name) for name in trainList]\n",
    "X_train = np.array(X_train, dtype='uint8')/255\n",
    "print('.   training set shape:', X_train.shape)\n",
    "\n",
    "X_test = [read(name) for name in testList]\n",
    "X_test = np.array(X_test, dtype='uint8')/255\n",
    "print('.   test set shape:', X_test.shape)\n",
    "\n",
    "print('loading ended.')\n",
    "\n",
    "# 1.3 Create target labels\n",
    "y_benign_train = np.zeros(len(trainList_b))\n",
    "y_malignant_train = np.ones(len(trainList_m))\n",
    "y_train = np.concatenate((y_benign_train, y_malignant_train), axis = 0)\n",
    "print('.    training target shape: ', y_train.shape)\n",
    "y_benign_test = np.zeros(len(testList_b))\n",
    "y_malignant_test = np.ones(len(testList_m))\n",
    "y_test = np.concatenate((y_benign_test, y_malignant_test), axis = 0)\n",
    "print('.    test target shape', y_test.shape)\n",
    "\n",
    "# 1.4 Shuffle data\n",
    "print('shuffling data ...')\n",
    "s = np.arange(X_train.shape[0])\n",
    "np.random.shuffle(s)\n",
    "X_train = X_train[s]\n",
    "y_train = y_train[s]\n",
    "\n",
    "s = np.arange(X_test.shape[0])\n",
    "np.random.shuffle(s)\n",
    "X_test = X_test[s]\n",
    "y_test = y_test[s]\n",
    "\n",
    "print('Dataset is ready for using.')"
   ]
  },
  {
   "cell_type": "code",
   "execution_count": 3,
   "metadata": {},
   "outputs": [
    {
     "name": "stdout",
     "output_type": "stream",
     "text": [
      "(2637, 150528) (660, 150528)\n"
     ]
    }
   ],
   "source": [
    "# 1.4 reshape images to vectors\n",
    "X_train_1 = np.reshape(X_train, [X_train.shape[0], X_train.shape[1] * X_train.shape[2]*3])\n",
    "X_test_1 = np.reshape(X_test, [X_test.shape[0], X_test.shape[1] * X_test.shape[2]*3])\n",
    "y_train_onehot = keras.utils.to_categorical(y_train)\n",
    "\n",
    "print(X_train_1.shape, X_test_1.shape)"
   ]
  },
  {
   "cell_type": "markdown",
   "metadata": {},
   "source": [
    "### 2. Construct a fully-connected deep NN\n",
    "    - lecture 13 for building NNs"
   ]
  },
  {
   "cell_type": "code",
   "execution_count": 1,
   "metadata": {},
   "outputs": [
    {
     "ename": "NameError",
     "evalue": "name 'X_train_1' is not defined",
     "output_type": "error",
     "traceback": [
      "\u001b[0;31m---------------------------------------------------------------------------\u001b[0m",
      "\u001b[0;31mNameError\u001b[0m                                 Traceback (most recent call last)",
      "\u001b[0;32m<ipython-input-1-01586730b74d>\u001b[0m in \u001b[0;36m<module>\u001b[0;34m\u001b[0m\n\u001b[1;32m     22\u001b[0m     \u001b[0;32mreturn\u001b[0m \u001b[0mmodel\u001b[0m\u001b[0;34m\u001b[0m\u001b[0;34m\u001b[0m\u001b[0m\n\u001b[1;32m     23\u001b[0m \u001b[0;34m\u001b[0m\u001b[0m\n\u001b[0;32m---> 24\u001b[0;31m \u001b[0mmodel\u001b[0m \u001b[0;34m=\u001b[0m \u001b[0mbuildModel\u001b[0m\u001b[0;34m(\u001b[0m\u001b[0minput_dims\u001b[0m\u001b[0;34m=\u001b[0m\u001b[0mX_train_1\u001b[0m\u001b[0;34m.\u001b[0m\u001b[0mshape\u001b[0m\u001b[0;34m[\u001b[0m\u001b[0;36m1\u001b[0m\u001b[0;34m]\u001b[0m\u001b[0;34m,\u001b[0m \u001b[0mout_dims\u001b[0m \u001b[0;34m=\u001b[0m \u001b[0;36m2\u001b[0m\u001b[0;34m)\u001b[0m\u001b[0;34m\u001b[0m\u001b[0;34m\u001b[0m\u001b[0m\n\u001b[0m\u001b[1;32m     25\u001b[0m \u001b[0mmodel\u001b[0m\u001b[0;34m.\u001b[0m\u001b[0msummary\u001b[0m\u001b[0;34m(\u001b[0m\u001b[0;34m)\u001b[0m\u001b[0;34m\u001b[0m\u001b[0;34m\u001b[0m\u001b[0m\n",
      "\u001b[0;31mNameError\u001b[0m: name 'X_train_1' is not defined"
     ]
    }
   ],
   "source": [
    "# Create a feedforward NN\n",
    "def buildModel(input_dims, out_dims):\n",
    "    '''construct your model in this function\n",
    "    \n",
    "        return model\n",
    "    '''\n",
    "    model = keras.models.Sequential()\n",
    "\n",
    "    ## add your code here\n",
    "    #-----------------------------------------------------\n",
    "    # hidden layers\n",
    "    model.add(keras.layers.Dense(units = 1000\n",
    "                                 input_dim = input_dims\n",
    "                                 activation = 'sigmoid'))\n",
    "    model.add(keras.layers.Dense(units = 100\n",
    "                                 input_dims = 1000\n",
    "                                 activation = 'sigmoid'))\n",
    "    model.add(keras.layers.Dense(units = 50\n",
    "                                 input_dims = 100\n",
    "                                 activation = 'sigmoid'))\n",
    "\n",
    "    # output layer\n",
    "    model.add(keras.layers.Dense(units = out_dims\n",
    "                                input_dim = \n",
    "                                activation = 'softmax'))\n",
    "    \n",
    "\n",
    "    # specify the optimization algo\n",
    "    optimizer = keras.optimizers.Adam()\n",
    "    \n",
    "    # compile\n",
    "    model.compile(optimizer = optimizer, loss = 'binary_crossentropy', metrics=['accuracy'])\n",
    "    #------------------------------------------------------\n",
    "    return model\n",
    "\n",
    "model = buildModel(input_dims=X_train_1.shape[1], out_dims = 2)\n",
    "model.summary()"
   ]
  },
  {
   "cell_type": "markdown",
   "metadata": {},
   "source": [
    "### 3. Train and test model"
   ]
  },
  {
   "cell_type": "code",
   "execution_count": 2,
   "metadata": {},
   "outputs": [],
   "source": [
    "#3.1 train the model\n",
    "#history = model.fit(...), batch size, epoch\n",
    "## add your code here\n",
    "#-----------------------------------------------------\n",
    "\n",
    "\n",
    "#------------------------------------------------------\n"
   ]
  },
  {
   "cell_type": "code",
   "execution_count": 6,
   "metadata": {},
   "outputs": [
    {
     "data": {
      "text/plain": [
       "<matplotlib.legend.Legend at 0x7fbfff62fc10>"
      ]
     },
     "execution_count": 6,
     "metadata": {},
     "output_type": "execute_result"
    },
    {
     "data": {
      "image/png": "[encoded data removed]",
      "text/plain": [
       "<Figure size 432x288 with 1 Axes>"
      ]
     },
     "metadata": {
      "needs_background": "light"
     },
     "output_type": "display_data"
    }
   ],
   "source": [
    "#3.2 Show the curves of the training and test accuracies\n",
    "training_accs = history.history['accuracy']\n",
    "val_accs = history.history['val_accuracy']\n",
    "\n",
    "plt.plot(training_accs)\n",
    "plt.plot(val_accs)\n",
    "plt.legend(['training acc', 'validation acc'])"
   ]
  },
  {
   "cell_type": "code",
   "execution_count": 7,
   "metadata": {},
   "outputs": [
    {
     "name": "stdout",
     "output_type": "stream",
     "text": [
      "training acc is 67.16%\n",
      "test acc is 68.182%\n"
     ]
    }
   ],
   "source": [
    "#3.3 test the model\n",
    "y_train_pred_onehot = model.predict(X_train_1)\n",
    "y_train_pred = np.argmax(y_train_pred_onehot, axis =1)\n",
    "\n",
    "train_err = np.sum(y_train == y_train_pred)/y_train.shape[0]\n",
    "print('training acc is {}%'.format(np.round(train_err*100, 3)))\n",
    "\n",
    "y_test_pred_onehot= model.predict(X_test_1)\n",
    "y_test_pred = np.argmax(y_test_pred_onehot, axis =1)\n",
    "test_err = np.sum(y_test == y_test_pred)/y_test.shape[0]\n",
    "print('test acc is {}%'.format(np.round(test_err*100, 3)))"
   ]
  },
  {
   "cell_type": "code",
   "execution_count": 8,
   "metadata": {},
   "outputs": [
    {
     "name": "stdout",
     "output_type": "stream",
     "text": [
      "INFO:tensorflow:Assets written to: LastName_model/assets\n"
     ]
    },
    {
     "data": {
      "text/plain": [
       "'/Users/mxian/OneDrive - University of Idaho/Courses/2021/DL/HW/HW4/LastName_model.zip'"
      ]
     },
     "execution_count": 8,
     "metadata": {},
     "output_type": "execute_result"
    }
   ],
   "source": [
    "# 3.4 save and zip the model\n",
    "import shutil\n",
    "\n",
    "model.save(\"LastName_model\")\n",
    "shutil.make_archive(\"LastName_model\", \"zip\", \"LastName_model\")"
   ]
  }
 ],
 "metadata": {
  "kernelspec": {
   "display_name": "Python 3",
   "language": "python",
   "name": "python3"
  },
  "language_info": {
   "codemirror_mode": {
    "name": "ipython",
    "version": 3
   },
   "file_extension": ".py",
   "mimetype": "text/x-python",
   "name": "python",
   "nbconvert_exporter": "python",
   "pygments_lexer": "ipython3",
   "version": "3.8.5"
  }
 },
 "nbformat": 4,
 "nbformat_minor": 5
}
