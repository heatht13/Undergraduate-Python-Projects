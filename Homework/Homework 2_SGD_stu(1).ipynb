{
 "cells": [
  {
   "cell_type": "markdown",
   "metadata": {},
   "source": [
    "## Homework 2: Wine Quality Prediction Using SGD\n",
    "### Course: CS 474/574: Deep Learning/2021 Fall\n",
    "### Due: 10/01/2021\n",
    "\n",
    "\n",
    "Add your code to the following sections:\n",
    "\n",
    "    ## add your code here\n",
    "    #-----------------------\n",
    "\n",
    "    #---------------------------------\n",
    "    \n",
    "Description: In this homework, you are going to practice cross-validation and implement the stochastic gradient optimization (mini-batch) to solve the wine quality prediction problem. Using the following code as your template. Specific requirements:\n",
    "\n",
    "1. Use all function definitions given in the code (e.g., def SGD(X, Y, lr = 0.001, batch_size = 32, epoch = 100):); and do not change the function names and input arguments. (deduct 5 points for doing this)\n",
    "\n",
    "2. Evaluate (Cross-validation) the model trained using GD (20 points)\n",
    "\n",
    "3. SGD implementation. 40 pts\n",
    "   \n",
    "4. Calculate and print out the MSE and MAE values of SGD for the training and test sets (15 points)\n",
    "5. Plot the loss curve of the SGD. (5 points)\n",
    "6. Plot the mse curves on the training and test sets using different models (w_hist). (20 points)\n",
    "\n",
    "### Common mistakes\n",
    "    \n",
    "1. Call GD and SGD using the whole dataset\n",
    "\n",
    "    -- GD and SGD are used to optimize the model (learn w); and we should call them using the training sets\n",
    "   \n",
    "2. Calculate gradient using the whole training set for SGD\n",
    "    \n",
    "    -- In SGD, update gradient only using mini-batches\n",
    "  \n",
    "3. Calculate the loss of each epoch using the average of all minibatches\n",
    "    \n",
    "    -- should use the w of the last mini-batch and the whole training set to calculate the loss  \n",
    "   \n",
    "4. Mix concepts of loss function and evaulation metrics\n",
    "    -- loss function: for optimization purpose (gradient). We use the sum of square errors in this homework. L = 1/2 * sum(y_hat_i - y_i)^2\n",
    "    \n",
    "    -- evaluation metrics: mse and mae: mse = 1/m * sum(y_hat_i - y_i)^2, mae = 1/m * sum(abs(y_hat_i - y_i))"
   ]
  },
  {
   "cell_type": "markdown",
   "metadata": {},
   "source": [
    "### 1. Load data, implement the model, loss function and GD "
   ]
  },
  {
   "cell_type": "code",
   "execution_count": 3,
   "metadata": {},
   "outputs": [
    {
     "name": "stdout",
     "output_type": "stream",
     "text": [
      "Data shape: X: (4898, 11) Y: (4898,)\n"
     ]
    }
   ],
   "source": [
    "import pandas as pd\n",
    "import numpy as np\n",
    "from matplotlib import pyplot as plt\n",
    "\n",
    "## (1) Data preparation\n",
    "df=pd.read_csv('winequality-white.csv', sep = ';')\n",
    "df\n",
    "X = df.values[:, :11]\n",
    "Y = df.values[:, 11]\n",
    "print('Data shape:', 'X:', X.shape, 'Y:', Y.shape)\n",
    "\n",
    "# data normalization\n",
    "min_vals = np.min(X, axis = 0)\n",
    "max_vals = np.max(X, axis = 0)\n",
    "X1 = (X-min_vals)/(max_vals-min_vals)\n",
    "\n",
    "##(2) Assume a linear mode that y = w0*1 + w_1*x_1 +w_2*x_2+...+ w_11*x_11\n",
    "def predict(X, w):\n",
    "    '''\n",
    "    X: input feature vectors:m*n\n",
    "    w: weights\n",
    "    \n",
    "    return Y_hat\n",
    "    '''\n",
    "    # Prediction\n",
    "    Y_hat = np.zeros((X.shape[0]))\n",
    "    for idx, x in enumerate(X):          \n",
    "        y_hat = w[0] + np.dot(w[1:].T, np.c_[x]) # linear model\n",
    "        Y_hat[idx] = y_hat    \n",
    "    return Y_hat\n",
    "\n",
    "## (3) Loss function: L = 1/2 * sum(y_hat_i - y_i)^2\n",
    "def loss(w, X, Y):\n",
    "    '''\n",
    "    w: weights\n",
    "    X: input feature vectors\n",
    "    Y: targets\n",
    "    '''\n",
    "    Y_hat = predict(X, w)\n",
    "    loss = 1/2* np.sum(np.square(Y - Y_hat))\n",
    "    \n",
    "    return loss\n",
    "\n",
    "# Optimization 1: Gradient Descent\n",
    "def GD(X, Y, lr = 0.001, delta = 0.01, max_iter = 100):\n",
    "    '''\n",
    "    X: training data\n",
    "    Y: training target\n",
    "    lr: learning rate\n",
    "    max_iter: the max iterations\n",
    "    '''\n",
    "    \n",
    "    m = len(Y)\n",
    "    b = np.reshape(Y, [Y.shape[0],1])\n",
    "    w = np.random.rand(X.shape[1] + 1, 1)\n",
    "    A = np.c_[np.ones((m, 1)), X]\n",
    "    gradient = A.T.dot(np.dot(A, w)-b)\n",
    "    \n",
    "    loss_hist = np.zeros(max_iter) # history of loss\n",
    "    w_hist = np.zeros((max_iter, w.shape[0])) # history of weight\n",
    "    loss_w = 0\n",
    "    i = 0                  \n",
    "    while(np.linalg.norm(gradient) > delta) and (i < max_iter):\n",
    "        w_hist[i,:] = w.T\n",
    "        loss_w = loss(w, X, Y)\n",
    "        print(i, 'loss:', loss_w)\n",
    "        loss_hist[i] = loss_w\n",
    "        \n",
    "        w = w - lr*gradient        \n",
    "        gradient = A.T.dot(np.dot(A, w)-b) # update the gradient using new w\n",
    "        i = i + 1\n",
    "        \n",
    "    w_star = w  \n",
    "    return w_star, loss_hist, w_hist"
   ]
  },
  {
   "cell_type": "markdown",
   "metadata": {},
   "source": [
    "### 2. Model evaluation using cross-validation (20 points)"
   ]
  },
  {
   "cell_type": "code",
   "execution_count": 4,
   "metadata": {},
   "outputs": [
    {
     "name": "stdout",
     "output_type": "stream",
     "text": [
      "(3428, 11) (1470, 11)\n"
     ]
    }
   ],
   "source": [
    "## 2.1 Split the dataset into training (70%) and test (30%) sets. (5 points)\n",
    "from sklearn.model_selection import train_test_split\n",
    "\n",
    "## add your code here\n",
    "#-----------------------\n",
    "X_train, X_test, y_train, y_test =train_test_split(X1,Y, test_size = 0.30)\n",
    "\n",
    "print(X_train.shape, X_test.shape)\n",
    "#---------------------------------"
   ]
  },
  {
   "cell_type": "code",
   "execution_count": 5,
   "metadata": {
    "scrolled": true
   },
   "outputs": [
    {
     "name": "stdout",
     "output_type": "stream",
     "text": [
      "0 loss: 31680.13274413908\n",
      "1 loss: 6236.226395514606\n",
      "2 loss: 2192.9999370022088\n",
      "3 loss: 1545.2063471210167\n",
      "4 loss: 1436.2729398544618\n",
      "5 loss: 1412.9938016090173\n",
      "6 loss: 1403.4619852219093\n",
      "7 loss: 1396.2645199306874\n",
      "8 loss: 1389.5860717110743\n",
      "9 loss: 1383.1341354082742\n",
      "10 loss: 1376.857946211092\n",
      "11 loss: 1370.7452280400476\n",
      "12 loss: 1364.7899429953088\n",
      "13 loss: 1358.987170590363\n",
      "14 loss: 1353.3322913100587\n",
      "15 loss: 1347.8208531850962\n",
      "16 loss: 1342.4485468514104\n",
      "17 loss: 1337.2111979400145\n",
      "18 loss: 1332.1047623317108\n",
      "19 loss: 1327.1253219780272\n",
      "20 loss: 1322.2690809201645\n",
      "21 loss: 1317.5323614441197\n",
      "22 loss: 1312.911600358862\n",
      "23 loss: 1308.4033453922707\n",
      "24 loss: 1304.0042517008987\n",
      "25 loss: 1299.7110784899205\n",
      "26 loss: 1295.5206857397811\n",
      "27 loss: 1291.4300310361737\n",
      "28 loss: 1287.4361665000774\n",
      "29 loss: 1283.5362358146956\n",
      "30 loss: 1279.72747134623\n",
      "31 loss: 1276.0071913555266\n",
      "32 loss: 1272.3727972977233\n",
      "33 loss: 1268.8217712071132\n",
      "34 loss: 1265.3516731645382\n",
      "35 loss: 1261.9601388446963\n",
      "36 loss: 1258.6448771408463\n",
      "37 loss: 1255.4036678644566\n",
      "38 loss: 1252.234359517433\n",
      "39 loss: 1249.1348671346364\n",
      "40 loss: 1246.1031701944598\n",
      "41 loss: 1243.137310595325\n",
      "42 loss: 1240.2353906960063\n",
      "43 loss: 1237.3955714177728\n",
      "44 loss: 1234.6160704063905\n",
      "45 loss: 1231.8951602520965\n",
      "46 loss: 1229.2311667657111\n",
      "47 loss: 1226.6224673091158\n",
      "48 loss: 1224.0674891783804\n",
      "49 loss: 1221.5647080378735\n",
      "50 loss: 1219.112646403748\n",
      "51 loss: 1216.70987217524\n",
      "52 loss: 1214.354997212275\n",
      "53 loss: 1212.0466759579103\n",
      "54 loss: 1209.7836041042062\n",
      "55 loss: 1207.56451730015\n",
      "56 loss: 1205.388189900304\n",
      "57 loss: 1203.2534337528919\n",
      "58 loss: 1201.159097026079\n",
      "59 loss: 1199.1040630712407\n",
      "60 loss: 1197.0872493220454\n",
      "61 loss: 1195.1076062282282\n",
      "62 loss: 1193.164116222957\n",
      "63 loss: 1191.2557927227267\n",
      "64 loss: 1189.3816791587585\n",
      "65 loss: 1187.5408480389103\n",
      "66 loss: 1185.7324000391282\n",
      "67 loss: 1183.9554631235162\n",
      "68 loss: 1182.2091916921092\n",
      "69 loss: 1180.4927657554845\n",
      "70 loss: 1178.8053901353596\n",
      "71 loss: 1177.146293690354\n",
      "72 loss: 1175.5147285661265\n",
      "73 loss: 1173.9099694691129\n",
      "74 loss: 1172.331312963122\n",
      "75 loss: 1170.7780767880672\n",
      "76 loss: 1169.249599200135\n",
      "77 loss: 1167.7452383327145\n",
      "78 loss: 1166.2643715774332\n",
      "79 loss: 1164.8063949846596\n",
      "80 loss: 1163.3707226828678\n",
      "81 loss: 1161.956786316257\n",
      "82 loss: 1160.5640345000593\n",
      "83 loss: 1159.1919322929741\n",
      "84 loss: 1157.8399606861872\n",
      "85 loss: 1156.5076161084526\n",
      "86 loss: 1155.1944099467323\n",
      "87 loss: 1153.899868081899\n",
      "88 loss: 1152.6235304390295\n",
      "89 loss: 1151.3649505518274\n",
      "90 loss: 1150.123695140729\n",
      "91 loss: 1148.8993437042639\n",
      "92 loss: 1147.6914881232456\n",
      "93 loss: 1146.4997322773938\n",
      "94 loss: 1145.3236916739943\n",
      "95 loss: 1144.1629930882139\n",
      "96 loss: 1143.0172742147083\n",
      "97 loss: 1141.8861833301617\n",
      "98 loss: 1140.7693789664163\n",
      "99 loss: 1139.6665295938556\n",
      "[[0.52484455 0.52367377 0.38112462 ... 0.33375431 0.79964498 0.06926777]\n",
      " [1.96465144 0.94106185 0.65411453 ... 0.95153981 1.24606286 0.68104762]\n",
      " [2.53982324 1.10528401 0.75804444 ... 1.19604092 1.4191102  0.93739463]\n",
      " ...\n",
      " [3.24617023 0.98312443 0.17224355 ... 1.13252694 1.01132148 2.11470629]\n",
      " [3.24981254 0.98116831 0.16622984 ... 1.13044636 1.00750641 2.11912836]\n",
      " [3.25345274 0.97921683 0.16023342 ... 1.12837284 1.00371733 2.12347695]]\n"
     ]
    }
   ],
   "source": [
    "## 2.2 Model training using the training set and the GD function (5 points )\n",
    "## add your code here\n",
    "#-----------------------\n",
    "w_star, loss_hist, w_hist = GD(X_train,y_train, lr=0.0001)\n",
    "print(w_hist)\n",
    "#---------------------------------"
   ]
  },
  {
   "cell_type": "code",
   "execution_count": 6,
   "metadata": {},
   "outputs": [
    {
     "name": "stdout",
     "output_type": "stream",
     "text": [
      "training mse: 0.6642808129024048 and training mae :0.6313308898582243\n",
      "test mse: 0.6890142836796471 and test mae: 0.6472715223174836\n"
     ]
    }
   ],
   "source": [
    "## 2.3. calculating mse&mae values on the training set and test set, respectively. (10 points)\n",
    "\n",
    "#training error\n",
    "## add your code here\n",
    "#-----------------------\n",
    "y_train_hat = predict(X_train, w_star)\n",
    "mse_train = (np.sum(np.square(y_train_hat-y_train)))/(X_train.shape[0])\n",
    "mae_train = (np.sum(np.absolute(y_train_hat-y_train)))/(X_train.shape[0])\n",
    "print('training mse: {} and training mae :{}'.format(mse_train, mae_train))\n",
    "#---------------------------------\n",
    "\n",
    "\n",
    "## test error\n",
    "## add your code here\n",
    "#-----------------------\n",
    "y_test_hat = predict(X_test, w_star)\n",
    "mse_test = (np.sum(np.square(y_test_hat-y_test)))/(X_test.shape[0])\n",
    "mae_test = (np.sum(np.absolute(y_test_hat-y_test)))/(X_test.shape[0])\n",
    "print('test mse: {} and test mae: {}'.format(mse_test, mae_test))\n",
    "#---------------------------------\n",
    "#training mse: 0.7867769198855628 and training mae:0.6927334108062077\n",
    "#test mse: 0.8391500534666578 and test mae:0.714897056700805"
   ]
  },
  {
   "cell_type": "markdown",
   "metadata": {},
   "source": [
    "### 3. SGD implementation (40 points)\n",
    "Use the SGD function definition given in the code (def SGD(X, Y, lr = 0.001, batch_size = 32, epoch = 100):); and do not change it."
   ]
  },
  {
   "cell_type": "code",
   "execution_count": 7,
   "metadata": {
    "scrolled": true
   },
   "outputs": [],
   "source": [
    "from sklearn.utils import shuffle\n",
    "def SGD(X, Y, lr = 0.001, batch_size = 32, epoch = 100): \n",
    "    '''Implement the minibatch Gradient Desent approach\n",
    "    \n",
    "        X: training data\n",
    "        Y: training target\n",
    "        lr: learning rate\n",
    "        batch_size: batch size\n",
    "        epoch: number of max epoches\n",
    "        \n",
    "        return: w_star, w_hist, loss_hist\n",
    "    '''\n",
    "    m = len(Y)\n",
    "    np.random.seed(9)\n",
    "    w = np.random.rand(X.shape[1]+1, 1)    #(12,1) values in [0, 1)\n",
    "    w_hist = np.zeros((epoch, w.shape[0])) # (epoch,12) \n",
    "    loss_hist = np.zeros(epoch)            # (epoch,)\n",
    "   \n",
    "    \n",
    "    ## add your code here\n",
    "    #-----------------------\n",
    "    for i in range(epoch):\n",
    "        #(1) Shuffle data (X and Y) at the beginning of each epoch. (5 points)\n",
    "        X_shuff, Y_shuff = shuffle(X,Y)\n",
    "        #(2) go through all minibatches and update w. (30 points)\n",
    "        for b in range(int(m/batch_size)): \n",
    "            # prepare the b mininath X_batch and Y_batch. 10 points\n",
    "            X_batch = X_shuff[b*batch_size:(b+1)*batch_size]\n",
    "            Y_batch = Y_shuff[b*batch_size:(b+1)*batch_size]\n",
    "            #prepare A_batch and b_batch. 10 points\n",
    "            A_batch = np.c_[np.ones((batch_size, 1)), X_batch]\n",
    "            b_batch = np.reshape(Y_batch, [Y_batch.shape[0],1])\n",
    "            #gradient calcualation and w update. 10 points\n",
    "            gradient = A_batch.T.dot(np.dot(A_batch, w)-b_batch)\n",
    "            w = w - lr*gradient\n",
    "            #print(i, b, X_batch.shape, A_batch.shape)\n",
    "\n",
    "            \n",
    "            \n",
    "        ## (3) Save the loss and current weight for each epoch. 5 points\n",
    "        loss_hist[i] = loss(w, X_shuff, Y_shuff)\n",
    "        w_hist[i,:] = w.T\n",
    "        \n",
    "        print(i, loss_hist[i])\n",
    "        \n",
    "        ##(4) Decay learning rate at the end of each epoch. \n",
    "        lr = lr * 0.9\n",
    "    #---------------------------------\n",
    "    \n",
    "    w_star = w\n",
    "    return w_star, w_hist, loss_hist  "
   ]
  },
  {
   "cell_type": "markdown",
   "metadata": {},
   "source": [
    "### 4. Calculate and print out the MSE and MAE values of SGD for the training and test sets (15 points)"
   ]
  },
  {
   "cell_type": "code",
   "execution_count": 8,
   "metadata": {
    "scrolled": true
   },
   "outputs": [
    {
     "name": "stdout",
     "output_type": "stream",
     "text": [
      "0 13434.286587114446\n",
      "1 5383.011916986167\n",
      "2 2820.361921850462\n",
      "3 1912.9109116720188\n",
      "4 1559.0159380833134\n",
      "5 1409.1655864543427\n",
      "6 1340.1681447982664\n",
      "7 1306.3300546547862\n",
      "8 1288.0186953593143\n",
      "9 1277.7264697812616\n",
      "10 1271.410512421924\n",
      "11 1267.3433052328596\n",
      "12 1264.7261336351198\n",
      "13 1262.8376347370486\n",
      "14 1261.4720038912901\n",
      "15 1260.4362289431706\n",
      "16 1259.5983476331887\n",
      "17 1258.9362605659196\n",
      "18 1258.3793620267043\n",
      "19 1257.9221374149877\n",
      "20 1257.5308235687207\n",
      "21 1257.202954229621\n",
      "22 1256.9111102724842\n",
      "23 1256.6589824589746\n",
      "24 1256.4373687132636\n",
      "25 1256.2449605808529\n",
      "26 1256.074875817415\n",
      "27 1255.923654554331\n",
      "28 1255.7894946866518\n",
      "29 1255.6714702657414\n",
      "30 1255.566816261577\n",
      "31 1255.4723413467798\n",
      "32 1255.3881219765954\n",
      "33 1255.3133620265821\n",
      "34 1255.2462054301145\n",
      "35 1255.1862398122125\n",
      "36 1255.1319937544035\n",
      "37 1255.0839252172602\n",
      "38 1255.0404388129366\n",
      "39 1255.0023537468346\n",
      "40 1254.967636835304\n",
      "41 1254.93639877518\n",
      "42 1254.9081202779416\n",
      "43 1254.8828690383257\n",
      "44 1254.8602800577198\n",
      "45 1254.8398034120341\n",
      "46 1254.8215581589084\n",
      "47 1254.8049638299171\n",
      "48 1254.790264475902\n",
      "49 1254.7769846702972\n",
      "Predicted: 6.044466274052485    True: 6.0\n",
      "Predicted: 5.561004243609437    True: 6.0\n",
      "Predicted: 5.829736721743592    True: 6.0\n",
      "Predicted: 6.074589494941467    True: 6.0\n",
      "Predicted: 5.801757385587896    True: 6.0\n",
      "Predicted: 5.468416903900261    True: 5.0\n",
      "Predicted: 6.2925592586598995    True: 7.0\n",
      "Predicted: 5.528479444272207    True: 6.0\n",
      "Predicted: 6.433281616694257    True: 7.0\n",
      "Predicted: 5.299972250334691    True: 6.0\n",
      "training mse: 0.7320752535999401 and training mae :0.6626437211283829\n",
      "test mse: 0.7499757092044739 and test mae: 0.6769322839419656\n"
     ]
    }
   ],
   "source": [
    "batch_size = 32\n",
    "n_epochs = 50\n",
    "\n",
    "#train model using SGD\n",
    "w_star_SGD, w_hist_SGD, loss_hist_SGD = SGD(X_train, y_train, lr = 0.0001, batch_size = batch_size, epoch = n_epochs)\n",
    "\n",
    "## add your code here\n",
    "#------------------------------------------------------------\n",
    "#(1) print out the predicted wine quality values and the true quality \n",
    "# values of the first 10 data samples in the test dataset.  5 points\n",
    "\n",
    "Y_train_hat = predict(X_train, w_star_SGD)\n",
    "Y_test_hat = predict(X_test, w_star_SGD)\n",
    "\n",
    "for i in range(10):\n",
    "    print('Predicted: {}    True: {}'.format(Y_test_hat[i], y_test[i]))\n",
    "\n",
    "#(2) mse and mae of the training set. 5 points\n",
    "mse_train = (np.sum(np.square(Y_train_hat-y_train)))/(X_train.shape[0])\n",
    "mae_train = (np.sum(np.absolute(Y_train_hat-y_train)))/(X_train.shape[0])\n",
    "print('training mse: {} and training mae :{}'.format(mse_train, mae_train))\n",
    "\n",
    "\n",
    "#(3)mse and mae of the test set. 5 points\n",
    "mse_test = (np.sum(np.square(Y_test_hat-y_test)))/(X_test.shape[0])\n",
    "mae_test = (np.sum(np.absolute(Y_test_hat-y_test)))/(X_test.shape[0])\n",
    "print('test mse: {} and test mae: {}'.format(mse_test, mae_test))\n",
    "#-------------------------------------------------------------------\n",
    "#Predicted: [6.  5.6 5.7 6.5 5.7 7.  6.7 6.2 5.7 5.8]\n",
    "#True [5. 6. 7. 8. 5. 4. 6. 5. 7. 5.]\n",
    "#training mse: 0.7218402431182253 and training mae:0.6595991336722727\n",
    "#test mse: 0.7735707034736699 and test mae:0.6839863502607874"
   ]
  },
  {
   "cell_type": "markdown",
   "metadata": {},
   "source": [
    "### 5. Plot the loss curve of the SGD. (5 points)"
   ]
  },
  {
   "cell_type": "code",
   "execution_count": 9,
   "metadata": {},
   "outputs": [
    {
     "data": {
      "image/png": "[encoded data removed]",
      "text/plain": [
       "<Figure size 432x288 with 1 Axes>"
      ]
     },
     "metadata": {
      "needs_background": "light"
     },
     "output_type": "display_data"
    }
   ],
   "source": [
    "## add your code here\n",
    "#-----------------------\n",
    "plt.plot(range(1,n_epochs+1), loss_hist[:n_epochs], label=\"loss\") # loss history is broken some how. didnt have time to fix\n",
    "plt.legend()\n",
    "plt.show()\n",
    "\n",
    "\n",
    "\n",
    "#---------------------------------"
   ]
  },
  {
   "cell_type": "markdown",
   "metadata": {},
   "source": [
    "### 6. Plot the mse curves on the training and test sets using different models (w_hist). (20 points)"
   ]
  },
  {
   "cell_type": "code",
   "execution_count": 29,
   "metadata": {},
   "outputs": [
    {
     "data": {
      "image/png": "[encoded data removed]",
      "text/plain": [
       "<Figure size 432x288 with 1 Axes>"
      ]
     },
     "metadata": {
      "needs_background": "light"
     },
     "output_type": "display_data"
    }
   ],
   "source": [
    "mse_SGD_train=np.zeros(n_epochs)\n",
    "mse_SGD_test=np.zeros(n_epochs)\n",
    "\n",
    "## add your code here\n",
    "#-----------------------\n",
    "for i in range(n_epochs):                           #find mse_train and mse_test for each model\n",
    "    Y_train_hat = predict(X_train, w_hist_SGD[i])\n",
    "    Y_test_hat = predict(X_test, w_hist_SGD[i])\n",
    "    mse_SGD_train[i] = (np.sum(np.square(Y_train_hat-y_train)))/(X_train.shape[0])\n",
    "    mse_SGD_test[i] = (np.sum(np.square(Y_test_hat-y_test)))/(X_test.shape[0])\n",
    "\n",
    "plt.plot(range(1,n_epochs+1), mse_SGD_train, label=\"mse_SGD_train\")\n",
    "plt.plot(range(1,n_epochs+1), mse_SGD_test, label=\"mse_SGD_test\")\n",
    "plt.legend()\n",
    "plt.show()\n",
    "\n",
    "\n",
    "#---------------------------------"
   ]
  },
  {
   "cell_type": "code",
   "execution_count": null,
   "metadata": {
    "collapsed": true
   },
   "outputs": [],
   "source": []
  }
 ],
 "metadata": {
  "kernelspec": {
   "display_name": "Python 3",
   "language": "python",
   "name": "python3"
  },
  "language_info": {
   "codemirror_mode": {
    "name": "ipython",
    "version": 3
   },
   "file_extension": ".py",
   "mimetype": "text/x-python",
   "name": "python",
   "nbconvert_exporter": "python",
   "pygments_lexer": "ipython3",
   "version": "3.8.5"
  }
 },
 "nbformat": 4,
 "nbformat_minor": 2
}
