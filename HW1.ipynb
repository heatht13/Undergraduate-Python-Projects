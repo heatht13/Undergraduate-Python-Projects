{
 "cells": [
  {
   "cell_type": "markdown",
   "metadata": {},
   "source": [
    "# Homework 1: Python for basic data analysis\n",
    "\n",
    "\n",
    "Name: Thompson, Heath\n",
    "\n",
    "Department: Computer Science\n",
    "\n",
    "\n",
    "\n",
    "\n",
    "This homework aims to help you practice basic Python programing skills using the breast cancer wisconsin dataset. \n",
    "\n",
    "![breast image](breastimg.png)\n",
    "\n",
    "| *Fig. 1. Cell nuclei in a breast histopathology image* | \n",
    "|---|\n",
    "|Fine Needle Aspiration (FNA) biopsy: https://www.cancer.org/cancer/breast-cancer/screening-tests-and-early-detection/breast-biopsy/fine-needle-aspiration-biopsy-of-the-breast.html|\n",
    "|H&E stain: https://en.wikipedia.org/wiki/H%26E_stain|\n",
    "\n",
    "\n",
    "Tasks:\n",
    "\n",
    "    [Task 1](#section1)\n",
    "\n",
    "    [Task 2](#section2)\n",
    "\n",
    "    [Task 3](#section3)\n",
    "\n",
    "    [Task 4](#section4)\n",
    "\n",
    "    [Task 5](#section5)"
   ]
  },
  {
   "cell_type": "markdown",
   "metadata": {},
   "source": [
    "## Dataset\n",
    "\n",
    "    - Number of data samples: 569\n",
    "    \n",
    "    - Each data sample has 30 numeric features/attributes. The first 10 features were directly calculated using mean feautues of all nuclei in an image\n",
    "    \n",
    "    - Class labels\n",
    "        : 212 Malignant (0)\n",
    "        : 357 Benign (1)\n",
    "        \n",
    "    https://scikit-learn.org/stable/modules/generated/sklearn.datasets.load_breast_cancer.html#sklearn.datasets.load_breast_cancer"
   ]
  },
  {
   "cell_type": "code",
   "execution_count": 1,
   "metadata": {},
   "outputs": [],
   "source": [
    "import sklearn.datasets as ds\n",
    "import numpy as np"
   ]
  },
  {
   "cell_type": "code",
   "execution_count": 2,
   "metadata": {
    "scrolled": true
   },
   "outputs": [
    {
     "name": "stdout",
     "output_type": "stream",
     "text": [
      "Data fields in breast_ds: \n",
      " ['DESCR', 'data', 'feature_names', 'filename', 'frame', 'target', 'target_names']\n",
      "\n",
      " Dataset description:\n",
      " .. _breast_cancer_dataset:\n",
      "\n",
      "Breast cancer wisconsin (diagnostic) dataset\n",
      "--------------------------------------------\n",
      "\n",
      "**Data Set Characteristics:**\n",
      "\n",
      "    :Number of Instances: 569\n",
      "\n",
      "    :Number of Attributes: 30 numeric, predictive attributes and the class\n",
      "\n",
      "    :Attribute Information:\n",
      "        - radius (mean of distances from center to points on the perimeter)\n",
      "        - texture (standard deviation of gray-scale values)\n",
      "        - perimeter\n",
      "        - area\n",
      "        - smoothness (local variation in radius lengths)\n",
      "        - compactness (perimeter^2 / area - 1.0)\n",
      "        - concavity (severity of concave portions of the contour)\n",
      "        - concave points (number of concave portions of the contour)\n",
      "        - symmetry\n",
      "        - fractal dimension (\"coastline approximation\" - 1)\n",
      "\n",
      "        The mean, standard error, and \"worst\" or largest (mean of the three\n",
      "        worst/largest values) of these features were computed for each image,\n",
      "        resulting in 30 features.  For instance, field 0 is Mean Radius, field\n",
      "        10 is Radius SE, field 20 is Worst Radius.\n",
      "\n",
      "        - class:\n",
      "                - WDBC-Malignant\n",
      "                - WDBC-Benign\n",
      "\n",
      "    :Summary Statistics:\n",
      "\n",
      "    ===================================== ====== ======\n",
      "                                           Min    Max\n",
      "    ===================================== ====== ======\n",
      "    radius (mean):                        6.981  28.11\n",
      "    texture (mean):                       9.71   39.28\n",
      "    perimeter (mean):                     43.79  188.5\n",
      "    area (mean):                          143.5  2501.0\n",
      "    smoothness (mean):                    0.053  0.163\n",
      "    compactness (mean):                   0.019  0.345\n",
      "    concavity (mean):                     0.0    0.427\n",
      "    concave points (mean):                0.0    0.201\n",
      "    symmetry (mean):                      0.106  0.304\n",
      "    fractal dimension (mean):             0.05   0.097\n",
      "    radius (standard error):              0.112  2.873\n",
      "    texture (standard error):             0.36   4.885\n",
      "    perimeter (standard error):           0.757  21.98\n",
      "    area (standard error):                6.802  542.2\n",
      "    smoothness (standard error):          0.002  0.031\n",
      "    compactness (standard error):         0.002  0.135\n",
      "    concavity (standard error):           0.0    0.396\n",
      "    concave points (standard error):      0.0    0.053\n",
      "    symmetry (standard error):            0.008  0.079\n",
      "    fractal dimension (standard error):   0.001  0.03\n",
      "    radius (worst):                       7.93   36.04\n",
      "    texture (worst):                      12.02  49.54\n",
      "    perimeter (worst):                    50.41  251.2\n",
      "    area (worst):                         185.2  4254.0\n",
      "    smoothness (worst):                   0.071  0.223\n",
      "    compactness (worst):                  0.027  1.058\n",
      "    concavity (worst):                    0.0    1.252\n",
      "    concave points (worst):               0.0    0.291\n",
      "    symmetry (worst):                     0.156  0.664\n",
      "    fractal dimension (worst):            0.055  0.208\n",
      "    ===================================== ====== ======\n",
      "\n",
      "    :Missing Attribute Values: None\n",
      "\n",
      "    :Class Distribution: 212 - Malignant, 357 - Benign\n",
      "\n",
      "    :Creator:  Dr. William H. Wolberg, W. Nick Street, Olvi L. Mangasarian\n",
      "\n",
      "    :Donor: Nick Street\n",
      "\n",
      "    :Date: November, 1995\n",
      "\n",
      "This is a copy of UCI ML Breast Cancer Wisconsin (Diagnostic) datasets.\n",
      "https://goo.gl/U2Uwz2\n",
      "\n",
      "Features are computed from a digitized image of a fine needle\n",
      "aspirate (FNA) of a breast mass.  They describe\n",
      "characteristics of the cell nuclei present in the image.\n",
      "\n",
      "Separating plane described above was obtained using\n",
      "Multisurface Method-Tree (MSM-T) [K. P. Bennett, \"Decision Tree\n",
      "Construction Via Linear Programming.\" Proceedings of the 4th\n",
      "Midwest Artificial Intelligence and Cognitive Science Society,\n",
      "pp. 97-101, 1992], a classification method which uses linear\n",
      "programming to construct a decision tree.  Relevant features\n",
      "were selected using an exhaustive search in the space of 1-4\n",
      "features and 1-3 separating planes.\n",
      "\n",
      "The actual linear program used to obtain the separating plane\n",
      "in the 3-dimensional space is that described in:\n",
      "[K. P. Bennett and O. L. Mangasarian: \"Robust Linear\n",
      "Programming Discrimination of Two Linearly Inseparable Sets\",\n",
      "Optimization Methods and Software 1, 1992, 23-34].\n",
      "\n",
      "This database is also available through the UW CS ftp server:\n",
      "\n",
      "ftp ftp.cs.wisc.edu\n",
      "cd math-prog/cpo-dataset/machine-learn/WDBC/\n",
      "\n",
      ".. topic:: References\n",
      "\n",
      "   - W.N. Street, W.H. Wolberg and O.L. Mangasarian. Nuclear feature extraction \n",
      "     for breast tumor diagnosis. IS&T/SPIE 1993 International Symposium on \n",
      "     Electronic Imaging: Science and Technology, volume 1905, pages 861-870,\n",
      "     San Jose, CA, 1993.\n",
      "   - O.L. Mangasarian, W.N. Street and W.H. Wolberg. Breast cancer diagnosis and \n",
      "     prognosis via linear programming. Operations Research, 43(4), pages 570-577, \n",
      "     July-August 1995.\n",
      "   - W.H. Wolberg, W.N. Street, and O.L. Mangasarian. Machine learning techniques\n",
      "     to diagnose breast cancer from fine-needle aspirates. Cancer Letters 77 (1994) \n",
      "     163-171.\n"
     ]
    }
   ],
   "source": [
    "breast_ds = ds.load_breast_cancer()\n",
    "print('Data fields in breast_ds: \\n', dir(breast_ds))\n",
    "\n",
    "print('\\n Dataset description:\\n', breast_ds['DESCR'])"
   ]
  },
  {
   "cell_type": "code",
   "execution_count": 3,
   "metadata": {},
   "outputs": [
    {
     "name": "stdout",
     "output_type": "stream",
     "text": [
      "size of ftrs:  569 10\n",
      "size of tgt:  569\n"
     ]
    }
   ],
   "source": [
    "# we are going to use the first 10 features in this assignment.\n",
    "ftrs = breast_ds['data'][:, :10].tolist() # np array to list\n",
    "tgt = (breast_ds['target']).tolist()\n",
    "\n",
    "print('size of ftrs: ', len(ftrs), len(ftrs[0]))\n",
    "print('size of tgt: ', len(tgt))"
   ]
  },
  {
   "cell_type": "markdown",
   "metadata": {},
   "source": [
    "## Task 1: Count and print out the number of malignant samples. 10 points <a id = \"section1\"/>"
   ]
  },
  {
   "cell_type": "code",
   "execution_count": 4,
   "metadata": {
    "scrolled": true
   },
   "outputs": [
    {
     "name": "stdout",
     "output_type": "stream",
     "text": [
      "Number of Malignant Samples: 212\n"
     ]
    }
   ],
   "source": [
    "count = 0\n",
    "for i in range(0, len(tgt)):\n",
    "    if tgt[i] == 0:\n",
    "        count = count+1\n",
    "\n",
    "print(\"Number of Malignant Samples:\", count)"
   ]
  },
  {
   "cell_type": "markdown",
   "metadata": {},
   "source": [
    "## Task 2: data search. 20 points.  <a id = \"section2\"/>\n",
    "\n",
    "Let the user input a sample idx (1 to 569), and your code will output the data features and the corresponding class label\n",
    "\n",
    "Extra 5 points for dealing with abnormal input.\n"
   ]
  },
  {
   "cell_type": "code",
   "execution_count": 6,
   "metadata": {},
   "outputs": [
    {
     "name": "stdout",
     "output_type": "stream",
     "text": [
      "Enter a sample idx from 1 to 569 or type \"quit\" to exit: 570\n",
      "Error: Input must be an integer between 1 and 569\n",
      "Enter a sample idx from 1 to 569 or type \"quit\" to exit: 569\n",
      "mean radius : 7.76\n",
      "mean texture : 24.54\n",
      "mean perimeter : 47.92\n",
      "mean area : 181.0\n",
      "mean smoothness : 0.05263\n",
      "mean compactness : 0.04362\n",
      "mean concavity : 0.0\n",
      "mean concave points : 0.0\n",
      "mean symmetry : 0.1587\n",
      "mean fractal dimension : 0.05884\n",
      "class label: benign\n",
      "Enter a sample idx from 1 to 569 or type \"quit\" to exit: heat\n",
      "Error: Input must be an integer between 1 and 569\n",
      "Enter a sample idx from 1 to 569 or type \"quit\" to exit: 45\n",
      "mean radius : 13.17\n",
      "mean texture : 21.81\n",
      "mean perimeter : 85.42\n",
      "mean area : 531.5\n",
      "mean smoothness : 0.09714\n",
      "mean compactness : 0.1047\n",
      "mean concavity : 0.08259\n",
      "mean concave points : 0.05252\n",
      "mean symmetry : 0.1746\n",
      "mean fractal dimension : 0.06177\n",
      "class label: malignant\n",
      "Enter a sample idx from 1 to 569 or type \"quit\" to exit: 0\n",
      "Error: Input must be an integer between 1 and 569\n",
      "Enter a sample idx from 1 to 569 or type \"quit\" to exit: 570\n",
      "Error: Input must be an integer between 1 and 569\n",
      "Enter a sample idx from 1 to 569 or type \"quit\" to exit: -5\n",
      "Error: Input must be an integer between 1 and 569\n",
      "Enter a sample idx from 1 to 569 or type \"quit\" to exit: quit\n"
     ]
    }
   ],
   "source": [
    "# tip: use the input() function and while loop.\n",
    "bool = True\n",
    "valid = []\n",
    "for i in range(1,570):\n",
    "    valid.append(str(i))\n",
    "\n",
    "while bool:   \n",
    "    idx = input(\"Enter a sample idx from 1 to 569 or type \\\"quit\\\" to exit: \")\n",
    "    if idx == 'quit':\n",
    "        bool = False\n",
    "        break\n",
    "\n",
    "    elif idx in valid:\n",
    "        idx = int(idx)\n",
    "        for i in range(0,10):\n",
    "            print(breast_ds['feature_names'][i], ':', ftrs[idx-1][i])\n",
    "        if tgt[idx-1] == 0:\n",
    "            print('class label:', breast_ds['target_names'][0])\n",
    "        else:\n",
    "            print('class label:', breast_ds['target_names'][1])\n",
    "    else:\n",
    "        print(\"Error: Input must be an integer between 1 and 569\")\n",
    "        \n",
    "  \n",
    "    \n"
   ]
  },
  {
   "cell_type": "markdown",
   "metadata": {},
   "source": [
    "## Task 3. 30 points  <a id = \"section3\"/>\n",
    "\n",
    "Task 3.1: Calculate and print out the mean, min and max values of the feature 'concave points (7)' for all benign samples.\n",
    "Tip: use the for loop\n"
   ]
  },
  {
   "cell_type": "code",
   "execution_count": null,
   "metadata": {},
   "outputs": [],
   "source": [
    "sumb = 0\n",
    "minb = 1\n",
    "maxb = 0\n",
    "countb = 0\n",
    "for i in range(0, len(ftrs)):\n",
    "    if tgt[i] == 1:\n",
    "        elemb = ftrs[i][7]\n",
    "        countb = countb + 1\n",
    "        sumb = sumb + elemb\n",
    "        if elemb < minb:\n",
    "            minb = elemb\n",
    "        if elemb > maxb:\n",
    "            maxb = elemb\n",
    "print(\"Mean: \", sumb/countb)\n",
    "print(\"Min: \", minb)\n",
    "print(\"Max: \", maxb)\n",
    "    \n"
   ]
  },
  {
   "cell_type": "markdown",
   "metadata": {},
   "source": [
    "Task 3.2: Calculate and print out the mean, min and max values of the feature 'concave points' for all malignant samples.\n"
   ]
  },
  {
   "cell_type": "code",
   "execution_count": null,
   "metadata": {},
   "outputs": [],
   "source": [
    "summ = 0\n",
    "minm = 1\n",
    "maxm = 0\n",
    "countm = 0\n",
    "for i in range(0, len(ftrs)):\n",
    "    if tgt[i] == 0:\n",
    "        elemm = ftrs[i][7]\n",
    "        countm = countm + 1\n",
    "        summ= summ + elemm\n",
    "        if elemm < minm:\n",
    "            minm = elemm\n",
    "        if elemm > maxm:\n",
    "            maxm = elemm\n",
    "print(\"Mean: \", summ/countm)\n",
    "print(\"Min: \", minm)\n",
    "print(\"Max: \", maxm)"
   ]
  },
  {
   "cell_type": "markdown",
   "metadata": {
    "scrolled": true
   },
   "source": [
    "## Task 4: count the number of benign samples that have 'concave points' values less than 0.17. 20 points  <a id = \"section4\"/>\n",
    "\n"
   ]
  },
  {
   "cell_type": "code",
   "execution_count": null,
   "metadata": {},
   "outputs": [],
   "source": [
    "count = 0\n",
    "for i in range(0, len(ftrs)):\n",
    "    if tgt[i] == 1:\n",
    "        elem = ftrs[i][7]\n",
    "        if elem < 0.17:\n",
    "            count = count + 1\n",
    "print(\"Number of Benign Samples that have concave point values less than 0.17: \", count)\n",
    "        "
   ]
  },
  {
   "cell_type": "markdown",
   "metadata": {},
   "source": [
    "## Task 5. 20 points <a id = \"section5\"/>\n",
    "\n",
    "Define a function that calculates the Euclidean distance between any two given data samples\n",
    " "
   ]
  },
  {
   "cell_type": "code",
   "execution_count": 28,
   "metadata": {},
   "outputs": [],
   "source": [
    "import math\n",
    "\n",
    "def eucdist(vec1, vec2):\n",
    "    \"\"\"Description: Finds the Euclidean distance between two given arrays\n",
    "       Usage: eucdist(arr1, arr2) where arr1 an arr2 are python lists or tuples\"\"\"\n",
    "    iteration = 0\n",
    "    for i in range(0, 10):\n",
    "        iteration = iteration + (vec1[i] - vec2[i])**2\n",
    "    print(\"Euclidean Distance: \", math.sqrt(iteration))\n",
    "       \n",
    "    return\n",
    "\n",
    "#example usage below:\n",
    "#eucdist(ftrs[0], ftrs[1])"
   ]
  }
 ],
 "metadata": {
  "kernelspec": {
   "display_name": "Python 3 (ipykernel)",
   "language": "python",
   "name": "python3"
  },
  "language_info": {
   "codemirror_mode": {
    "name": "ipython",
    "version": 3
   },
   "file_extension": ".py",
   "mimetype": "text/x-python",
   "name": "python",
   "nbconvert_exporter": "python",
   "pygments_lexer": "ipython3",
   "version": "3.9.7"
  }
 },
 "nbformat": 4,
 "nbformat_minor": 4
}
