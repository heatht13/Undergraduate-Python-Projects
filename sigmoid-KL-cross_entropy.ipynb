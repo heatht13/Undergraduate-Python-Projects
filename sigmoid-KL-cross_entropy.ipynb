{
 "cells": [
  {
   "cell_type": "markdown",
   "metadata": {},
   "source": [
    "## Heath Thompson\n",
    "\n",
    "\n",
    "### Homewoke 1: Sigmoid, KL and cross-entropy\n",
    "\n",
    "Add your code to the following sections:\n",
    "\n",
    "```python\n",
    "    # (1) add your code here\n",
    "    #-----------------------\n",
    "\n",
    "    #---------------------------------\n",
    "```\n",
    "\n",
    "\n",
    "Grading details:\n",
    "1. sigm. 20 pts. \n",
    "Students can use both the math.exp and np.exp functions. Give 5 extra points to students who can solve the overflow warning.\n",
    "    \n",
    "2. dsigm. 20 pts\n",
    "\n",
    "3. show the sigm and dsigm curves. 10pts\n",
    "\n",
    "4. kl.  20 pts\n",
    "Student should consider zero values in p and/or q. If not, reduce 5 points.\n",
    "\n",
    "4. cross-entropy. 30 pts\n",
    "students should take care of zeros in q, e.g., using np.clip(). If not reduce 5 points.\n",
    "\n",
    "\n",
    "### Common issues:\n",
    "1. Overflow warning of the np.exp(-x) function\n",
    "2. Didn't deal with 0 in KL divergence\n",
    "3. Didn't deal with 0 in cross-entropy"
   ]
  },
  {
   "cell_type": "code",
   "execution_count": 39,
   "metadata": {},
   "outputs": [
    {
     "name": "stdout",
     "output_type": "stream",
     "text": [
      "sigmoid(0): 0.5\n",
      "sigmoid(10^(6)): 1.0\n",
      "sigmoid(-10^(6)): 0.0\n",
      "derivative of sigmoid(0): 0.25\n",
      "derivative of sigmoid(10^(6)): 0.0\n",
      "derivative of sigmoid(-10^(6)): nan\n"
     ]
    },
    {
     "name": "stderr",
     "output_type": "stream",
     "text": [
      "<ipython-input-39-b664cbbb6b16>:18: RuntimeWarning: overflow encountered in exp\n",
      "  return 1/(1+np.exp(-x))\n",
      "<ipython-input-39-b664cbbb6b16>:35: RuntimeWarning: overflow encountered in exp\n",
      "  return np.exp(-x)/((1+np.exp(-x))**2)\n",
      "<ipython-input-39-b664cbbb6b16>:35: RuntimeWarning: invalid value encountered in double_scalars\n",
      "  return np.exp(-x)/((1+np.exp(-x))**2)\n"
     ]
    },
    {
     "data": {
      "text/plain": [
       "<matplotlib.legend.Legend at 0x24403f780d0>"
      ]
     },
     "execution_count": 39,
     "metadata": {},
     "output_type": "execute_result"
    },
    {
     "data": {
      "image/png": "[encoded data removed]",
      "text/plain": [
       "<Figure size 432x288 with 1 Axes>"
      ]
     },
     "metadata": {
      "needs_background": "light"
     },
     "output_type": "display_data"
    }
   ],
   "source": [
    "import math\n",
    "import matplotlib.pyplot as plt\n",
    "import numpy as np\n",
    "\n",
    "def sigm(x):\n",
    "    \"\"\"The logistic sigmoid function\n",
    "    \n",
    "    Parameters\n",
    "    ----------\n",
    "    x: 1D numpy arrays\n",
    "    \"\"\"  \n",
    "    \n",
    "    # (1) add your code here \n",
    "    #sigm should be able to deal with scalars and vectors\n",
    "    #-----------------------\n",
    "    \n",
    "    #return the output of the sigmoid function\n",
    "    return 1/(1+np.exp(-x))\n",
    "\n",
    "    #---------------------------------\n",
    "\n",
    "def dsigm(x):\n",
    "    \"\"\"The derivative of the logistic sigmoid function\n",
    "    \n",
    "    Parameters\n",
    "    ----------\n",
    "    x: 1D numpy arrays   \n",
    "    \"\"\" \n",
    "    \n",
    "    # (2) add your code here\n",
    "    #dsigm should be able to deal with scalars and vectors\n",
    "    #-------------------------------\n",
    " \n",
    "    #return the out of the derivative of the sigmoid function\n",
    "    return np.exp(-x)/((1+np.exp(-x))**2)\n",
    "\n",
    "    #------------------------------\n",
    "    \n",
    "print('sigmoid(0):', sigm(0))\n",
    "print('sigmoid(10^(6)):', sigm(1e6))\n",
    "print('sigmoid(-10^(6)):', sigm(-1e6))\n",
    "\n",
    "print('derivative of sigmoid(0):', dsigm(0))\n",
    "print('derivative of sigmoid(10^(6)):', dsigm(1e6))\n",
    "print('derivative of sigmoid(-10^(6)):', dsigm(-1e6))\n",
    "\n",
    "# (3) add your code here\n",
    "# show the curves of the sigm and dsigm functions using plt.plot() function\n",
    "# from -10 to 10\n",
    "#-----------------------\n",
    "x = np.arange(-10, 10, 0.01)\n",
    "y = sigm(x)\n",
    "y1 = dsigm(x)\n",
    "\n",
    "plt.plot(x, y, label=\"sigm(x)\") #plot sigm(x) function\n",
    "plt.plot(x, y1, label=\"dsigm(x)\") #plot dsigm(x) function\n",
    "plt.legend()             #give descriptions for each line\n",
    "#-----------------------"
   ]
  },
  {
   "cell_type": "code",
   "execution_count": 49,
   "metadata": {},
   "outputs": [
    {
     "name": "stdout",
     "output_type": "stream",
     "text": [
      "0.04440300758688234 0.036690014034750584\n"
     ]
    }
   ],
   "source": [
    "# KL divergience\n",
    "def KL(p, q):\n",
    "    \n",
    "    \"\"\"KL divergence D(P || Q)\n",
    "    \n",
    "    Parameters\n",
    "    ----------\n",
    "    p, q : 1D numpy arrays of discrete probability distributions\n",
    "    \n",
    "    \"\"\"\n",
    "    \n",
    "    # (4) add your code here\n",
    "    #Avoid the division-by-zero problem\n",
    "    #-----------------------\n",
    "    \n",
    "    KLout = 0.0      #variable to store summation of output in KL\n",
    "    for i in range(len(p)):\n",
    "        if(p[i] != 0.0 or q[i] != 0): #skip input that leads to undefined output or an output of 0\n",
    "            KLout = KLout + p[i]*np.log(p[i]/q[i]) #sum output of KL divergence function\n",
    "    return KLout\n",
    "    \n",
    "    #-----------------------\n",
    "\n",
    "# test code\n",
    "p = np.array([0.2, 0.8, 0])\n",
    "q = np.array([0.1, 0.9, 0])\n",
    "\n",
    "print(KL(p, q), KL(q, p))"
   ]
  },
  {
   "cell_type": "code",
   "execution_count": 44,
   "metadata": {},
   "outputs": [
    {
     "name": "stdout",
     "output_type": "stream",
     "text": [
      "1.7342693795592878 1.6819512407882695\n"
     ]
    }
   ],
   "source": [
    "# Cross-entropy\n",
    "def crossentropy(p, q):\n",
    "    \"\"\"The Cross-entropy H(P, Q)\n",
    "    \n",
    "    Parameters\n",
    "    ----------\n",
    "    p, q : 1D numpy arrays of discrete probability distributions\n",
    "    \n",
    "    \"\"\"  \n",
    "    \n",
    "    # (4) add your code here\n",
    "    # students should take care of zeros in q \n",
    "    #-----------------------\n",
    "    \n",
    "    q = np.clip(q, 1*np.exp(-12), 1.0)   #round anything less than e^-12 to e^-12\n",
    "    \n",
    "    CEout = 0.0       #variable to store summation of CE\n",
    "    for i in range(len(p)):\n",
    "        CEout = CEout + p[i]*np.log(q[i])  #sum output of Cross Entropy function\n",
    "\n",
    "    return -CEout\n",
    "    \n",
    "    #-----------------------\n",
    "    \n",
    "# test code\n",
    "p = np.array([0.2, 0.7, 0.1, 0])\n",
    "q = np.array([0.1, 0.9, 0, 0.1])\n",
    "print(crossentropy(p, q), crossentropy(q, p))    "
   ]
  },
  {
   "cell_type": "code",
   "execution_count": null,
   "metadata": {},
   "outputs": [],
   "source": []
  }
 ],
 "metadata": {
  "kernelspec": {
   "display_name": "Python 3",
   "language": "python",
   "name": "python3"
  },
  "language_info": {
   "codemirror_mode": {
    "name": "ipython",
    "version": 3
   },
   "file_extension": ".py",
   "mimetype": "text/x-python",
   "name": "python",
   "nbconvert_exporter": "python",
   "pygments_lexer": "ipython3",
   "version": "3.8.5"
  }
 },
 "nbformat": 4,
 "nbformat_minor": 2
}
